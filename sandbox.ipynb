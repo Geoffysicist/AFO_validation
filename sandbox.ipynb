{
 "cells": [
  {
   "cell_type": "code",
   "execution_count": 3,
   "metadata": {},
   "outputs": [
    {
     "data": {
      "text/plain": [
       "<matplotlib.legend.Legend at 0x1cd2c77b700>"
      ]
     },
     "execution_count": 3,
     "metadata": {},
     "output_type": "execute_result"
    },
    {
     "data": {
      "image/png": "[encoded data removed]",
      "text/plain": [
       "<Figure size 432x288 with 1 Axes>"
      ]
     },
     "metadata": {
      "needs_background": "light"
     },
     "output_type": "display_data"
    }
   ],
   "source": [
    "\n",
    "rsq_str = r'$r^2$'\n",
    "rsq_str\n",
    "\n",
    "import matplotlib.pyplot as plt\n",
    "ax = plt.gca()  # or any other way to get an axis object\n",
    "ax.plot(1,1, label=rsq_str)\n",
    "\n",
    "ax.legend()\n"
   ]
  }
 ],
 "metadata": {
  "interpreter": {
   "hash": "b3c40cf46ccba0525568b92746fdfaeae069bd4a45d1ea787ce9599bbbf6793b"
  },
  "kernelspec": {
   "display_name": "Python 3.10.2 ('.venv': venv)",
   "language": "python",
   "name": "python3"
  },
  "language_info": {
   "codemirror_mode": {
    "name": "ipython",
    "version": 3
   },
   "file_extension": ".py",
   "mimetype": "text/x-python",
   "name": "python",
   "nbconvert_exporter": "python",
   "pygments_lexer": "ipython3",
   "version": "3.10.2"
  },
  "orig_nbformat": 4
 },
 "nbformat": 4,
 "nbformat_minor": 2
}
