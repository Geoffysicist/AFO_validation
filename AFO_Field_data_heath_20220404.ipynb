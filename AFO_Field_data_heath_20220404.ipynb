{
 "cells": [
  {
   "cell_type": "code",
   "execution_count": 8,
   "metadata": {},
   "outputs": [],
   "source": [
    "import geopandas as gpd\n",
    "import csv"
   ]
  },
  {
   "cell_type": "code",
   "execution_count": 2,
   "metadata": {},
   "outputs": [],
   "source": [
    "# superset of column names\n",
    "all_cols = {\n",
    "    'globalid': ['id', 'Unique Site ID'],\n",
    "    'Site': ['site', 'Site No'],\n",
    "    'plot': ['plot', 'Plot No'], \n",
    "    'Date': ['date', 'Date'], \n",
    "    'Name': ['observer', 'Assessor Name'], \n",
    "    'Fuel': ['veg_type', 'Vegetation Class'],\n",
    "    'FireHistor': ['fire_hist', 'Time since Fire (y)'], \n",
    "    'latitude': ['lat', 'Latitude (°)'], \n",
    "    'longitude': ['lon', 'Longitude (°)'],\n",
    "    'horaccmete': ['loc_acc', 'Location accuracy (m)'],\n",
    "    'FuelDepth1': ['lit_d_1', 'Litter Depth: Sample 1 (mm)'],\n",
    "    'Cover1': ['lit_st_1', 'Litter State: Sample 1 (presence/absence)'], \n",
    "    'NearSurfac': ['ns_h_1', 'Near surface fuel height: Sample 1 (m)'],\n",
    "    'NearSurf_1': ['ns_st_1', 'Near surface fuel state: Sample 1 (absent/alive/dead)'],\n",
    "    'Elevated1': ['elev_h_1', 'Elevated fuel height: Sample 1 (m)'],\n",
    "    'ElevatedCo': ['elev_st_1', 'Elevated fuel state: Sample 1 (absent/alive/dead)'],\n",
    "    'CanopyHeig': ['can_h_1', 'Canopy height: Sample 1 (m)'],\n",
    "    'CanopyCove': ['can_cov_1', 'Canopy cover: Sample 1 (%)'],\n",
    "    'FuelDepth2': ['lit_d_2', 'Litter Depth: Sample 2 (mm)'], \n",
    "    'Cover2': ['lit_st_2', 'Litter State: Sample 2 (presence/absence)'],\n",
    "    'NearSurf_2': ['ns_h_2', 'Near surface fuel height: Sample 2 (m)'], \n",
    "    'NearSurf_3': ['ns_st_2', 'Near surface fuel state: Sample 2 (absent/alive/dead)'],\n",
    "    'Elevated2': ['elev_h_2', 'Elevated fuel height: Sample 2 (m)'],\n",
    "    'Elevated_1': ['elev_st_2', 'Elevated fuel state: Sample 2 (absent/alive/dead)'],\n",
    "    'FuelDepth3': ['lit_d_3', 'Litter Depth: Sample 3 (mm)'],\n",
    "    'Cover3': ['lit_st_3', 'Litter State: Sample 3 (presence/absence)'],\n",
    "    'NearSurf_4': ['ns_h_3', 'Near surface fuel height: Sample 3 (m)'],\n",
    "    'NearSurf_5': ['ns_st_3', 'Near surface fuel state: Sample 3 (absent/alive/dead)'],\n",
    "    'Elevated3': ['elev_h_3', 'Elevated fuel height: Sample 3 (m)'],\n",
    "    'Elevated_2': ['elev_st_3', 'Elevated fuel state: Sample 3 (absent/alive/dead)'],\n",
    "    'CanopyHe_1': ['can_h_3', 'Canopy height: Sample 3 (m)'],\n",
    "    'CanopyCo_1': ['can_cov_3', 'Canopy cover: Sample 3 (%)'],\n",
    "    'FuelDepth4': ['lit_d_4', 'Litter Depth: Sample 4 (mm)'],\n",
    "    'Cover4': ['lit_st_4', 'Litter State: Sample 4 (presence/absence)'],\n",
    "    'NearSurf_6': ['ns_h_4', 'Near surface fuel height: Sample 4 (m)'],\n",
    "    'NearSurf_7': ['ns_st_4', 'Near surface fuel state: Sample 4 (absent/alive/dead)'],\n",
    "    'Elevated4': ['elev_h_4', 'Elevated fuel height: Sample 4 (m)'],\n",
    "    'Elevated_3': ['elev_st_4', 'Elevated fuel state: Sample 4 (absent/alive/dead)'],\n",
    "    'FuelDepth5': ['lit_d_5', 'Litter Depth: Sample 5 (mm)'],\n",
    "    'Cover5': ['lit_st_5', 'Litter State: Sample 5 (presence/absence)'],\n",
    "    'NearSurf_8': ['ns_h_5', 'Near surface fuel height: Sample 5 (m)'],\n",
    "    'NearSurf_9': ['ns_st_5', 'Near surface fuel state: Sample 5 (absent/alive/dead)'],\n",
    "    'Elevated5': ['elev_h_5', 'Elevated fuel height: Sample 5 (m)'],\n",
    "    'Elevated_4': ['elev_st_5', 'Elevated fuel state: Sample 5 (absent/alive/dead)'],\n",
    "    'CanopyHe_2': ['can_h_5', 'Canopy height: Sample 5 (m)'],\n",
    "    'CanopyCo_2': ['can_cov_5', 'Canopy cover: Sample 5 (%)'],\n",
    "    'FuelDepth6': ['lit_d_6', 'Litter Depth: Sample 6 (mm)'],\n",
    "    'Cover6': ['lit_st_6', 'Litter State: Sample 6 (presence/absence)'],\n",
    "    'NearSur_10': ['ns_h_6', 'Near surface fuel height: Sample 6 (m)'],\n",
    "    'NearSur_11': ['ns_st_6', 'Near surface fuel state: Sample 6 (absent/alive/dead)'],\n",
    "    'Elevated6': ['elev_h_6', 'Elevated fuel height: Sample 6 (m)'],\n",
    "    'Elevated_5':['elev_st_6', 'Elevated fuel state: Sample 6 (absent/alive/dead)'],\n",
    "    'FuelDepth7': ['lit_d_7', 'Litter Depth: Sample 7 (mm)'],\n",
    "    'Cover7': ['lit_st_7', 'Litter State: Sample 7 (presence/absence)'],\n",
    "    'NearSur_12': ['ns_h_7', 'Near surface fuel height: Sample 7 (m)'],\n",
    "    'NearSur_13': ['ns_st_7', 'Near surface fuel state: Sample 7 (absent/alive/dead)'],\n",
    "    'Elevated7': ['elev_h_7', 'Elevated fuel height: Sample 7 (m)'],\n",
    "    'Elevated_6': ['elev_st_7', 'Elevated fuel state: Sample 7 (absent/alive/dead)'],\n",
    "    'CanopyHe_3': ['can_h_7', 'Canopy height: Sample 7 (m)'],\n",
    "    'CanopyCo_3': ['can_cov_7', 'Canopy cover: Sample 7 (%)'],\n",
    "    'FuelDepth8': ['lit_d_8', 'Litter Depth: Sample 8 (mm)'], \n",
    "    'Cover8': ['lit_st_8', 'Litter State: Sample 8 (presence/absence)'],\n",
    "    'NearSur_14': ['ns_h_8', 'Near surface fuel height: Sample 8 (m)'],\n",
    "    'NearSur_15': ['ns_st_8', 'Near surface fuel state: Sample 8 (absent/alive/dead)'],\n",
    "    'Elevated8': ['elev_h_8', 'Elevated fuel height: Sample 8 (m)'],\n",
    "    'Elevated_7': ['elev_st_8', 'Elevated fuel state: Sample 8 (absent/alive/dead)'],\n",
    "    'FuelDepth9': ['lit_d_9', 'Litter Depth: Sample 9 (mm)'],\n",
    "    'Cover9': ['lit_st_9', 'Litter State: Sample 9 (presence/absence)'],\n",
    "    'NearSur_16': ['ns_h_9', 'Near surface fuel height: Sample 9 (m)'],\n",
    "    'NearSur_17': ['ns_st_9', 'Near surface fuel state: Sample 9 (absent/alive/dead)'],\n",
    "    'Elevated9': ['elev_h_9', 'Elevated fuel height: Sample 9 (m)'],\n",
    "    'Elevated_8': ['elev_st_9', 'Elevated fuel state: Sample 9 (absent/alive/dead)'],\n",
    "    'CanopyHe_4': ['can_h_9', 'Canopy height: Sample 9 (m)'],\n",
    "    'CanopyCo_4': ['can_cov_9', 'Canopy cover: Sample 9 (%)'],\n",
    "    'FuelDept_1': ['lit_d_10', 'Litter Depth: Sample 10 (mm)'],\n",
    "    'Cover10': ['lit_st_10', 'Litter State: Sample 10 (presence/absence)'],\n",
    "    'NearSur_18': ['ns_h_10', 'Near surface fuel height: Sample 10 (m)'],\n",
    "    'NearSur_19': ['ns_st_10', 'Near surface fuel state: Sample 10 (absent/alive/dead)'],\n",
    "    'Elevated10': ['elev_h_10', 'Elevated fuel height: Sample 10 (m)'],\n",
    "    'Elevated_9': ['elev_st_10', 'Elevated fuel state: Sample 10 (absent/alive/dead)'],\n",
    "    'AverageFue': ['lit_d_m', 'Mean litter depth (mm)'],\n",
    "    'AverageSur': ['lit_st_n', 'Litter cover P/A count (/10)'],\n",
    "    'AveragePer': ['lit_cov', 'Litter cover (%)'],\n",
    "    'FuelLoad': ['lit_load', 'Litter fuel load (t/ha)'],\n",
    "    'Fuel_Hazar': ['s_fhr', 'Surface fuel hazard rating'], \n",
    "    'averageNSh': ['ns_h_m', 'Mean near surface height (m)'], \n",
    "    'averageNSc': ['ns_st_n', 'Near Surface P/A count (/10)'], \n",
    "    'averageN_1': ['ns_cov', 'Near surface cover (%)'], \n",
    "    'averageNSd': ['ns_dd_n', 'Near surface dead count'], \n",
    "    'percentage': ['ns_dd_%', 'Near surface dead as percentage of near surface present'], \n",
    "    'nearsur_20': ['_ns_fhr', 'Near surface Fuel Hazard Rating'], # repeat?\n",
    "    'Near_Surfa': ['ns_fhr', 'Near surface Fuel Hazard Rating'], \n",
    "    'nearsur_21': ['ns_load', 'Near surface fuel load (t/ha)'], \n",
    "    'combined': ['s&ns_fhr', 'Combined surface and near surface Fuel Hazard Rating'], \n",
    "    'averageele': ['elev_h_m', 'Mean elevated height (m)'], \n",
    "    'averagee_1': ['elev_st_n', 'Elevated P/A count (/10)'], \n",
    "    'averagee_2': ['elev_cov', 'elevated cover (%)'], \n",
    "    'averagee_3': ['elev_dd_n', 'Elevated dead count'],\n",
    "    'elevatedpe': ['elev_dd_%', 'elevated dead as percentage of elevated present'], \n",
    "    'elevated_f': ['_elev_fhr', 'Elevated Fuel Hazard Rating'], # repeat?\n",
    "    'elevated_h': ['elev_fhr', 'Elevated Fuel Hazard Rating'], \n",
    "    'elevate_10': ['elev_load', 'Elevated fuel load (t/ha)'], \n",
    "    'bark_type': ['bark_type', 'Bark type'], \n",
    "    'bark_fuel': ['bark_h&t', 'Bark hazard rating and type'], \n",
    "    'bark_hazar': ['bark_haz', 'Bark hazard rating'], \n",
    "    'bark_fuell': ['bark_load', 'Bark fuel load (t/ha)'], \n",
    "    'height_ave': ['can_h_m', 'Mean canopy height (m)'], \n",
    "    'cannopy_av':['can_cov_m', 'Mean canopy cover (%)'], \n",
    "    'plotgood': ['represent', 'Plot is representative of area (Y/N)'], \n",
    "    'comments': ['comments', 'Comments'],\n",
    "    'geometry': ['geometry', 'Shapefile geometry'],\n",
    "}\n"
   ]
  },
  {
   "cell_type": "code",
   "execution_count": 3,
   "metadata": {},
   "outputs": [
    {
     "data": {
      "text/plain": [
       "(159, 129)"
      ]
     },
     "execution_count": 3,
     "metadata": {},
     "output_type": "execute_result"
    }
   ],
   "source": [
    "path = 'spatial_data/Field_Data/AFO_Field_Samples_20220331.shp'\n",
    "gdf = gpd.read_file(path)\n",
    "# gdf = gdf[gdf['geometry'].x > 0] # drop sites with no location data\n",
    "gdf.shape"
   ]
  },
  {
   "cell_type": "markdown",
   "metadata": {},
   "source": [
    "rename columns to something meaningful but because they will leater need to be saved as a shapefile which has a 10 character limit on field names we should associated with longer description in a dictionary"
   ]
  },
  {
   "cell_type": "code",
   "execution_count": 4,
   "metadata": {},
   "outputs": [
    {
     "data": {
      "text/plain": [
       "(159, 129)"
      ]
     },
     "execution_count": 4,
     "metadata": {},
     "output_type": "execute_result"
    }
   ],
   "source": [
    "rename_dict = {}\n",
    "labels_dict = {}\n",
    "for key, [field, desc] in all_cols.items():\n",
    "    rename_dict[key] = field\n",
    "    labels_dict[field] = desc\n",
    "gdf = gdf.rename(columns=rename_dict)\n",
    "gdf.shape"
   ]
  },
  {
   "cell_type": "markdown",
   "metadata": {},
   "source": [
    "the survey app deals poorly with missing data so recalculate means and percentages for relevant fields"
   ]
  },
  {
   "cell_type": "code",
   "execution_count": 5,
   "metadata": {},
   "outputs": [
    {
     "data": {
      "text/plain": [
       "(159, 130)"
      ]
     },
     "execution_count": 5,
     "metadata": {},
     "output_type": "execute_result"
    }
   ],
   "source": [
    "quantitative_fields = ['can_cov', 'can_h', 'elev_h', 'litter_d', 'ns_h']\n",
    "presence_absence_fields = ['elev_st', 'lit_st', 'ns_st']\n",
    "\n",
    "for field in quantitative_fields:\n",
    "    cols = [string for string in list(gdf.columns.values) if field in string]\n",
    "    gdf[f'{field}_m'] = gdf[cols[:-1]].mean(axis=1)\n",
    "\n",
    "for field in presence_absence_fields:\n",
    "    cols = [string for string in list(gdf.columns.values) if field in string]\n",
    "    gdf[f'{field}_n'] = (\n",
    "        gdf[gdf[cols[:-1]] == 'alive'].count(axis=1) + \n",
    "        gdf[gdf[cols[:-1]] == 'dead'].count(axis=1) + \n",
    "        gdf[gdf[cols[:-1]] == 'yes'].count(axis=1)\n",
    "    )\n",
    "    prefix=field.split('_')[0]\n",
    "    gdf[f'{prefix}_cov'] = gdf[f'{field}_n']*10\n",
    "\n",
    "gdf.shape"
   ]
  },
  {
   "cell_type": "code",
   "execution_count": 6,
   "metadata": {},
   "outputs": [
    {
     "name": "stderr",
     "output_type": "stream",
     "text": [
      "c:\\Users\\geoffg\\Documents\\FBTC_Projects\\AFO_validation\\.venv\\lib\\site-packages\\geopandas\\io\\file.py:362: FutureWarning: pandas.Int64Index is deprecated and will be removed from pandas in a future version. Use pandas.Index with the appropriate dtype instead.\n",
      "  pd.Int64Index,\n"
     ]
    }
   ],
   "source": [
    "gdf[gdf['veg_type'] == 'Heath'].to_file(\n",
    "    filename= \"spatial_data/Field_Data/AFO_field_data_heath_20220404.shp\"\n",
    ")"
   ]
  },
  {
   "cell_type": "code",
   "execution_count": 22,
   "metadata": {},
   "outputs": [],
   "source": [
    "field_names= ['Raw','Name', 'Description']\n",
    "with open('spatial_data/Field_Data/AFO_field_data_dictionary.csv', 'w', newline='') as csvfile:\n",
    "    writer = csv.writer(csvfile)\n",
    "    writer.writerow(field_names)\n",
    "    for key, [field, desc] in all_cols.items():\n",
    "        writer.writerow([key, field, desc])\n",
    "    # writer.writerows(rename_dict)\n"
   ]
  }
 ],
 "metadata": {
  "interpreter": {
   "hash": "b3c40cf46ccba0525568b92746fdfaeae069bd4a45d1ea787ce9599bbbf6793b"
  },
  "kernelspec": {
   "display_name": "Python 3.10.2 ('.venv': venv)",
   "language": "python",
   "name": "python3"
  },
  "language_info": {
   "codemirror_mode": {
    "name": "ipython",
    "version": 3
   },
   "file_extension": ".py",
   "mimetype": "text/x-python",
   "name": "python",
   "nbconvert_exporter": "python",
   "pygments_lexer": "ipython3",
   "version": "3.10.2"
  },
  "orig_nbformat": 4
 },
 "nbformat": 4,
 "nbformat_minor": 2
}
