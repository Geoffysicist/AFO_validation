{
 "cells": [
  {
   "cell_type": "code",
   "execution_count": null,
   "metadata": {},
   "outputs": [],
   "source": [
    "import geopandas as gpd\n",
    "from geopandas import GeoDataFrame\n",
    "import numpy as np\n",
    "import pandas as pd\n",
    "from shapely.geometry import Point\n",
    "import rasterio\n",
    "import matplotlib.pyplot as plt\n",
    "import seaborn as sns\n",
    "from scipy.stats import linregress\n",
    "from pandas import DataFrame, Series\n",
    "from matplotlib.pyplot import Axes\n",
    "from osgeo import gdal"
   ]
  },
  {
   "cell_type": "markdown",
   "metadata": {},
   "source": [
    "## Data wrangling\n",
    "\n",
    "- read field sampling data\n",
    "- remove unwanted columns from the field data\n",
    "- rename columns to meaningful names\n",
    "- created smaller database with just average results\n",
    "\n",
    "set up lookup tables and helper functions"
   ]
  },
  {
   "cell_type": "code",
   "execution_count": null,
   "metadata": {},
   "outputs": [],
   "source": [
    "# superset of column names\n",
    "all_cols = {\n",
    "    'globalid': ['id', 'Unique Site ID'],\n",
    "    'Site': ['site', 'Site No'],\n",
    "    'plot': ['plot', 'Plot No'], \n",
    "    'Date': ['date', 'Date'], \n",
    "    'Name': ['observer', 'Assessor Name'], \n",
    "    'Fuel': ['veg_type', 'Vegetation Class'],\n",
    "    'FireHistor': ['fire_hist', 'Time since Fire (y)'], \n",
    "    'latitude': ['lat', 'Latitude (°)'], \n",
    "    'longitude': ['lon', 'Longitude (°)'],\n",
    "    'horaccmete': ['loc_accuracy', 'Location accuracy (m)'],\n",
    "    'FuelDepth1': ['litter_d_1', 'Litter Depth: Sample 1 (mm)'],\n",
    "    'Cover1': ['litter_state_1', 'Litter State: Sample 1 (presence/absence)'], \n",
    "    'NearSurfac': ['ns_h_1', 'Near surface fuel height: Sample 1 (m)'],\n",
    "    'NearSurf_1': ['ns_state_1', 'Near surface fuel state: Sample 1 (absent/alive/dead)'],\n",
    "    'Elevated1': ['elev_h_1', 'Elevated fuel height: Sample 1 (m)'],\n",
    "    'ElevatedCo': ['elev_state_1', 'Elevated fuel state: Sample 1 (absent/alive/dead)'],\n",
    "    'CanopyHeig': ['canopy_h_1', 'Canopy height: Sample 1 (m)'],\n",
    "    'CanopyCove': ['canopy_cov_1', 'Canopy cover: Sample 1 (%)'],\n",
    "    'FuelDepth2': ['litter_d_2', 'Litter Depth: Sample 2 (mm)'], \n",
    "    'Cover2': ['litter_state_2', 'Litter State: Sample 2 (presence/absence)'],\n",
    "    'NearSurf_2': ['ns_h_2', 'Near surface fuel height: Sample 2 (m)'], \n",
    "    'NearSurf_3': ['ns_state_2', 'Near surface fuel state: Sample 2 (absent/alive/dead)'],\n",
    "    'Elevated2': ['elev_h_2', 'Elevated fuel height: Sample 2 (m)'],\n",
    "    'Elevated_1': ['elev_state_2', 'Elevated fuel state: Sample 2 (absent/alive/dead)'],\n",
    "    'FuelDepth3': ['litter_d_3', 'Litter Depth: Sample 3 (mm)'],\n",
    "    'Cover3': ['litter_state_3', 'Litter State: Sample 3 (presence/absence)'],\n",
    "    'NearSurf_4': ['ns_h_3', 'Near surface fuel height: Sample 3 (m)'],\n",
    "    'NearSurf_5': ['ns_state_3', 'Near surface fuel state: Sample 3 (absent/alive/dead)'],\n",
    "    'Elevated3': ['elev_h_3', 'Elevated fuel height: Sample 3 (m)'],\n",
    "    'Elevated_2': ['elev_state_3', 'Elevated fuel state: Sample 3 (absent/alive/dead)'],\n",
    "    'CanopyHe_1': ['canopy_h_3', 'Canopy height: Sample 3 (m)'],\n",
    "    'CanopyCo_1': ['canopy_cov_3', 'Canopy cover: Sample 3 (%)'],\n",
    "    'FuelDepth4': ['litter_d_4', 'Litter Depth: Sample 4 (mm)'],\n",
    "    'Cover4': ['litter_state_4', 'Litter State: Sample 4 (presence/absence)'],\n",
    "    'NearSurf_6': ['ns_h_4', 'Near surface fuel height: Sample 4 (m)'],\n",
    "    'NearSurf_7': ['ns_state_4', 'Near surface fuel state: Sample 4 (absent/alive/dead)'],\n",
    "    'Elevated4': ['elev_h_4', 'Elevated fuel height: Sample 4 (m)'],\n",
    "    'Elevated_3': ['elev_state_4', 'Elevated fuel state: Sample 4 (absent/alive/dead)'],\n",
    "    'FuelDepth5': ['litter_d_5', 'Litter Depth: Sample 5 (mm)'],\n",
    "    'Cover5': ['litter_state_5', 'Litter State: Sample 5 (presence/absence)'],\n",
    "    'NearSurf_8': ['ns_h_5', 'Near surface fuel height: Sample 5 (m)'],\n",
    "    'NearSurf_9': ['ns_state_5', 'Near surface fuel state: Sample 5 (absent/alive/dead)'],\n",
    "    'Elevated5': ['elev_h_5', 'Elevated fuel height: Sample 5 (m)'],\n",
    "    'Elevated_4': ['elev_state_5', 'Elevated fuel state: Sample 5 (absent/alive/dead)'],\n",
    "    'CanopyHe_2': ['canopy_h_5', 'Canopy height: Sample 5 (m)'],\n",
    "    'CanopyCo_2': ['canopy_cov_5', 'Canopy cover: Sample 5 (%)'],\n",
    "    'FuelDepth6': ['litter_d_6', 'Litter Depth: Sample 6 (mm)'],\n",
    "    'Cover6': ['litter_state_6', 'Litter State: Sample 6 (presence/absence)'],\n",
    "    'NearSur_10': ['ns_h_6', 'Near surface fuel height: Sample 6 (m)'],\n",
    "    'NearSur_11': ['ns_state_6', 'Near surface fuel state: Sample 6 (absent/alive/dead)'],\n",
    "    'Elevated6': ['elev_h_6', 'Elevated fuel height: Sample 6 (m)'],\n",
    "    'Elevated_5':['elev_state_6', 'Elevated fuel state: Sample 6 (absent/alive/dead)'],\n",
    "    'FuelDepth7': ['litter_d_7', 'Litter Depth: Sample 7 (mm)'],\n",
    "    'Cover7': ['litter_state_7', 'Litter State: Sample 7 (presence/absence)'],\n",
    "    'NearSur_12': ['ns_h_7', 'Near surface fuel height: Sample 7 (m)'],\n",
    "    'NearSur_13': ['ns_state_7', 'Near surface fuel state: Sample 7 (absent/alive/dead)'],\n",
    "    'Elevated7': ['elev_h_7', 'Elevated fuel height: Sample 7 (m)'],\n",
    "    'Elevated_6': ['elev_state_7', 'Elevated fuel state: Sample 7 (absent/alive/dead)'],\n",
    "    'CanopyHe_3': ['canopy_h_7', 'Canopy height: Sample 7 (m)'],\n",
    "    'CanopyCo_3': ['canopy_cov_7', 'Canopy cover: Sample 7 (%)'],\n",
    "    'FuelDepth8': ['litter_d_8', 'Litter Depth: Sample 8 (mm)'], \n",
    "    'Cover8': ['litter_state_8', 'Litter State: Sample 8 (presence/absence)'],\n",
    "    'NearSur_14': ['ns_h_8', 'Near surface fuel height: Sample 8 (m)'],\n",
    "    'NearSur_15': ['ns_state_8', 'Near surface fuel state: Sample 8 (absent/alive/dead)'],\n",
    "    'Elevated8': ['elev_h_8', 'Elevated fuel height: Sample 8 (m)'],\n",
    "    'Elevated_7': ['elev_state_8', 'Elevated fuel state: Sample 8 (absent/alive/dead)'],\n",
    "    'FuelDepth9': ['litter_d_9', 'Litter Depth: Sample 9 (mm)'],\n",
    "    'Cover9': ['litter_state_9', 'Litter State: Sample 9 (presence/absence)'],\n",
    "    'NearSur_16': ['ns_h_9', 'Near surface fuel height: Sample 9 (m)'],\n",
    "    'NearSur_17': ['ns_state_9', 'Near surface fuel state: Sample 9 (absent/alive/dead)'],\n",
    "    'Elevated9': ['elev_h_9', 'Elevated fuel height: Sample 9 (m)'],\n",
    "    'Elevated_8': ['elev_state_9', 'Elevated fuel state: Sample 9 (absent/alive/dead)'],\n",
    "    'CanopyHe_4': ['canopy_h_9', 'Canopy height: Sample 9 (m)'],\n",
    "    'CanopyCo_4': ['canopy_cov_9', 'Canopy cover: Sample 9 (%)'],\n",
    "    'FuelDept_1': ['litter_d_10', 'Litter Depth: Sample 10 (mm)'],\n",
    "    'Cover10': ['litter_state_10', 'Litter State: Sample 10 (presence/absence)'],\n",
    "    'NearSur_18': ['ns_h_10', 'Near surface fuel height: Sample 10 (m)'],\n",
    "    'NearSur_19': ['ns_state_10', 'Near surface fuel state: Sample 10 (absent/alive/dead)'],\n",
    "    'Elevated10': ['elev_h_10', 'Elevated fuel height: Sample 10 (m)'],\n",
    "    'Elevated_9': ['elev_state_10', 'Elevated fuel state: Sample 10 (absent/alive/dead)'],\n",
    "    'AverageFue': ['litter_d_m', 'Mean litter depth (mm)'],\n",
    "    'AverageSur': ['litter_state_count', 'Litter cover P/A count (/10)'],\n",
    "    'AveragePer': ['litter_cov', 'Litter cover (%)'],\n",
    "    'FuelLoad': ['litter_load', 'Litter fuel load (t/ha)'],\n",
    "    'Fuel_Hazar': ['s_fhr', 'Surface fuel hazard rating'], \n",
    "    'averageNSh': ['ns_h_m', 'Mean near surface height (m)'], \n",
    "    'averageNSc': ['ns_state_count', 'Near Surface P/A count (/10)'], \n",
    "    'averageN_1': ['ns_cov', 'Near surface cover (%)'], \n",
    "    'averageNSd': ['ns_dead_count', 'Near surface dead count'], \n",
    "    'percentage': ['ns_dead_%', 'Near surface dead as percentage of near surface present'], \n",
    "    'nearsur_20': ['_ns_fhr', 'Near surface Fuel Hazard Rating'], # repeat?\n",
    "    'Near_Surfa': ['ns_fhr', 'Near surface Fuel Hazard Rating'], \n",
    "    'nearsur_21': ['ns_load', 'Near surface fuel load (t/ha)'], \n",
    "    'combined': ['s&ns_fhr', 'Combined surface and near surface Fuel Hazard Rating'], \n",
    "    'averageele': ['elev_h_m', 'Mean elevated height (m)'], \n",
    "    'averagee_1': ['elev_state_count', 'Elevated P/A count (/10)'], \n",
    "    'averagee_2': ['elev_cov', 'elevated cover (%)'], \n",
    "    'averagee_3': ['elev_dead_count', 'Elevated dead count'],\n",
    "    'elevatedpe': ['elev_dead_%', 'elevated dead as percentage of elevated present'], \n",
    "    'elevated_f': ['_elev_fhr', 'Elevated Fuel Hazard Rating'], # repeat?\n",
    "    'elevated_h': ['elev_fhr', 'Elevated Fuel Hazard Rating'], \n",
    "    'elevate_10': ['elev_load', 'Elevated fuel load (t/ha)'], \n",
    "    'bark_type': ['bark_type', 'Bark type'], \n",
    "    'bark_fuel': ['bark_haz&type', 'Bark hazard rating and type'], \n",
    "    'bark_hazar': ['bark_haz', 'Bark hazard rating'], \n",
    "    'bark_fuell': ['bark_load', 'Bark fuel load (t/ha)'], \n",
    "    'height_ave': ['canopy_h_m', 'Mean canopy height (m)'], \n",
    "    'cannopy_av':['canopy_cov_m', 'Mean canopy cover (%)'], \n",
    "    'plotgood': ['representative', 'Plot is representative of area (Y/N)'], \n",
    "    'comments': ['comments', 'Comments'],\n",
    "    'geometry': ['geometry', 'Shapefile geometry'],\n",
    "}\n",
    "\n",
    "# column names and descriptions\n",
    "labels = {\n",
    "    'afo_cc': 'AFO Crown Cover %',\n",
    "    'afo_lfd': 'AFO Ladder Fuel Density',\n",
    "    'afo_ch': 'AFO Canopy Height (m)',\n",
    "    'afo_cbh': 'AFO Canopy Base Height (m)',\n",
    "    'afo_litter': 'AFO litter fuel load (t/ha)', \n",
    "    'afo_surface': 'AFO surface fuel load (t/ha)', \n",
    "    'afo_elevated': 'AFO elevated fuel  load (t/ha)', \n",
    "    'afo_bark': 'AFO bark fuel load (t/ha)'\n",
    "}\n",
    "\n",
    "#smaller working set of data - extraneous columns removed\n",
    "subset = [\n",
    "    'id', 'site', 'plot', 'observer', 'veg_type', 'fire_hist', 'loc_accuracy', \n",
    "    'litter_d_m', 'litter_cov', 'litter_load', 's_fhr', \n",
    "    'ns_h_m', 'ns_cov',#'ns_fhr', 'ns_load', \n",
    "    's&ns_fhr', \n",
    "    'elev_h_m', 'elev_cov', 'elev_load',# 'elev_fhr',\n",
    "    'bark_type', 'bark_load',# 'bark_haz', \n",
    "    'canopy_h_m', 'canopy_cov_m', \n",
    "    'representative', 'comments', 'geometry'\n",
    "]\n"
   ]
  },
  {
   "cell_type": "code",
   "execution_count": null,
   "metadata": {},
   "outputs": [],
   "source": [
    "# helper functions\n",
    "def read_afo(paths: dict, coord_df: GeoDataFrame, index: int = None, offset: int = 0) -> Series:\n",
    "    \"\"\"samples single and multiband AFO geotiffs\n",
    "\n",
    "    Args:\n",
    "        paths (dict): region names and relative path to geotiffs\n",
    "        coord_df (GeoDataFrame): gdf containing sample coordinates as `geometry`\n",
    "        index (int, optional): for multiband data the index of the band to sample\n",
    "        offset (int, optional): generates random offsets to test robustness of data\n",
    "            sampling to location. Maximum offset in x or y is `offset`\n",
    "\n",
    "    Returns:\n",
    "        Series: sampled data\n",
    "    \"\"\"\n",
    "\n",
    "    coord_df = coord_df[['geometry']]\n",
    "    for loc, path in paths.items():\n",
    "        with rasterio.open(path, 'r') as src:\n",
    "            print(f'Input CRS is: {src.crs}')\n",
    "            coord_df = coord_df.to_crs(src.crs)\n",
    "            site_coords = [\n",
    "                (x,y) for x,y in zip(\n",
    "                    coord_df['geometry'].x - offset, coord_df['geometry'].y\n",
    "                )\n",
    "            ]\n",
    "            coord_df[loc] = -9999\n",
    "            if index is None:\n",
    "                coord_df[loc] = [x for x in src.sample(site_coords)]\n",
    "            else:\n",
    "                coord_df[loc] = [x[index] for x in src.sample(site_coords)]\n",
    "    \n",
    "    return coord_df[paths.keys()].max(axis=1)\n",
    "\n",
    "def read_rfs(path: str, coord_df: GeoDataFrame) -> Series:\n",
    "    \"\"\"reads RFS corporate data in geotiff form\n",
    "\n",
    "    Args:\n",
    "        path (str): path to the geotiff file\n",
    "        coord_df (GeoDataFrame): gdf containing sample coordinates as `geometry`\n",
    "\n",
    "    Returns:\n",
    "        Series: sampled data\n",
    "    \"\"\"\n",
    "    coord_df = coord_df[['geometry']]\n",
    "    with rasterio.open(path, 'r') as src:\n",
    "        print(f'Input CRS is: {src.crs}')\n",
    "        coord_df = coord_df.to_crs(src.crs)\n",
    "        site_coords = [\n",
    "            (x,y) for x,y in zip(coord_df['geometry'].x, coord_df['geometry'].y)\n",
    "        ]\n",
    "        coord_df['sample_data'] = [x[0] for x in src.sample(site_coords)]\n",
    "    return coord_df['sample_data']\n",
    "\n",
    "def reg_plot(x: str, y: str, df: DataFrame, hue: str=None) -> Axes:\n",
    "    \"\"\"Regression plot with stats. Points coloured by `hue`\n",
    "\n",
    "    Args:\n",
    "        x (str): df column name for x values\n",
    "        y (str): df column name for y values\n",
    "        df (DataFrame):\n",
    "        hue (str): df column name to use to colour the values. Defaults to `None` \n",
    "    \"\"\"\n",
    "    _df = df[[x, y]].dropna()\n",
    "    slope, intercept, r_value, p_value, std_err = linregress(_df[x], _df[y])\n",
    "    stats = f'pearson r: {r_value:.2f} \\n r sq: {r_value**2:.2f}'\n",
    "    grid = sns.lmplot(x=x, y=y, data=df, hue=hue, fit_reg=False, height=8, aspect=1.5)\n",
    "    ax = grid.axes[0, 0]\n",
    "    sns.regplot(x=x, y=y, data=df, scatter=False, ax=ax)\n",
    "    ax.text(0.1, 0.9, stats, ha='center', va='center', transform=ax.transAxes)\n",
    "    ax.set(xlabel=labels[x], ylabel=labels[y])\n",
    "    \n",
    "    return ax\n",
    "\n",
    "def reg_plots(x: str, y: str, df: DataFrame, hue: str=None) -> sns.FacetGrid:\n",
    "    \"\"\"creates a series of linear regression with axis labels and calculates\n",
    "    descriptive statistics.\n",
    "\n",
    "    Args:\n",
    "        x (str): df column name for x values\n",
    "        y (str): df column name for y values\n",
    "        df (DataFrame):\n",
    "        hue (str, optional): df column name to define subsets. Defaults to `None`.\n",
    "    \"\"\"\n",
    "    subsets = set(df[hue])\n",
    "    subsets.discard(None)\n",
    "    regressions = sns.FacetGrid(df, col=hue, col_order=subsets, hue=hue, height=5, aspect=1.2, col_wrap=2)\n",
    "    regressions.map(sns.regplot, x, y)\n",
    "    regressions.set_ylabels(labels[y])\n",
    "    regressions.set_xlabels(labels[x])\n",
    "    \n",
    "    for ax, subset in zip(regressions.axes.flat, subsets):\n",
    "        _df = df.loc[df[hue]==subset]\n",
    "        _df = _df[[x, y]].dropna()\n",
    "        if _df.shape[0] > 5: # make sure _df not too small\n",
    "            slope, intercept, r_value, p_value, std_err = linregress(_df[x], _df[y], )\n",
    "            stats = f'pearson r: {r_value:.2f} \\n r sq: {r_value**2:.2f}'\n",
    "            ax.text(0.15, 0.9, stats, ha='center', va='center', transform=ax.transAxes)\n",
    "    \n",
    "    return regressions\n",
    "\n",
    "def rasters_resample(path_dict: dict, res: float) -> dict:\n",
    "    \"\"\"resamples geotiffs to resolution = `res`.\n",
    "\n",
    "    Args:\n",
    "        path_dict (dict): dictionary containing path to input geotifs.\n",
    "        res (float): resolution in projected units of resultant geotiff\n",
    "\n",
    "    Returns:\n",
    "        dict: dictionary containing path to input geotifs.\n",
    "    \"\"\"\n",
    "    out_paths = {}\n",
    "    for key, path in path_dict.items():\n",
    "        outpath = f'{path.split(\".\")[0]}_{res}.tif'\n",
    "        gdal.Translate(\n",
    "            outpath, path,\n",
    "            options=f'-of GTiff -tr {res} {res} -r bilinear'\n",
    "        )\n",
    "        out_paths[key] = outpath \n",
    "    return out_paths"
   ]
  },
  {
   "cell_type": "markdown",
   "metadata": {},
   "source": [
    "read the site and field sampling geodata"
   ]
  },
  {
   "cell_type": "code",
   "execution_count": null,
   "metadata": {},
   "outputs": [],
   "source": [
    "path = 'spatial_data/Field_Data/Form_2.shp'\n",
    "# path = 'spatial_data/Field_Data/Fuel_Sampling___Version_0_1.shp'\n",
    "gdf = gpd.read_file(path)\n",
    "gdf.shape"
   ]
  },
  {
   "cell_type": "code",
   "execution_count": null,
   "metadata": {},
   "outputs": [],
   "source": [
    "gdf = gdf[gdf['geometry'].x > 0] # drop sites with no location data\n",
    "gdf.shape"
   ]
  },
  {
   "cell_type": "markdown",
   "metadata": {},
   "source": [
    "rename columns to something meaningful (associated with longer description in dictionary)"
   ]
  },
  {
   "cell_type": "code",
   "execution_count": null,
   "metadata": {},
   "outputs": [],
   "source": [
    "rename_dict = {} # used to cut down and rename columns\n",
    "for key, [field, desc] in all_cols.items():\n",
    "    rename_dict[key] = field\n",
    "    labels[field] = desc\n",
    "gdf = gdf.rename(columns=rename_dict)"
   ]
  },
  {
   "cell_type": "markdown",
   "metadata": {},
   "source": [
    "the survey app deals poorly with missing data so recalculate means and percentages"
   ]
  },
  {
   "cell_type": "code",
   "execution_count": null,
   "metadata": {},
   "outputs": [],
   "source": [
    "quantitative_fields = ['canopy_cov', 'canopy_h', 'elev_h', 'litter_d', 'ns_h']\n",
    "presence_absence_fields = ['elev_state', 'litter_state', 'ns_state']\n",
    "\n",
    "for field in quantitative_fields:\n",
    "    cols = [string for string in list(gdf.columns.values) if field in string]\n",
    "    gdf[f'{field}_m'] = gdf[cols[:-1]].mean(axis=1)\n",
    "\n",
    "for field in presence_absence_fields:\n",
    "    cols = [string for string in list(gdf.columns.values) if field in string]\n",
    "    gdf[f'{field}_count'] = (\n",
    "        gdf[gdf[cols[:-1]] == 'alive'].count(axis=1) + \n",
    "        gdf[gdf[cols[:-1]] == 'dead'].count(axis=1) + \n",
    "        gdf[gdf[cols[:-1]] == 'yes'].count(axis=1)\n",
    "    )\n",
    "    prefix=field.split('_')[0]\n",
    "    gdf[f'{prefix}_cov'] = gdf[f'{field}_count']*10"
   ]
  },
  {
   "cell_type": "markdown",
   "metadata": {},
   "source": [
    "cut down the number of columns"
   ]
  },
  {
   "cell_type": "code",
   "execution_count": null,
   "metadata": {},
   "outputs": [],
   "source": [
    "gdf = gdf[subset]\n",
    "# sort it just because we can :)\n",
    "gdf.sort_values(by=['site', 'plot'], inplace=True)\n",
    "gdf.head()"
   ]
  },
  {
   "cell_type": "markdown",
   "metadata": {},
   "source": [
    "shapefile data are imported as objects so need to convert to data types that can be used for correlation and other analyses"
   ]
  },
  {
   "cell_type": "code",
   "execution_count": null,
   "metadata": {},
   "outputs": [],
   "source": [
    "gdf= gdf.replace('BlanK', np.nan) # some missing values\n",
    "\n",
    "numeric = [\n",
    "    'litter_d_m', 'litter_cov', 'litter_load', \n",
    "    'ns_h_m', 'ns_cov',# 'ns_load', \n",
    "    'elev_h_m', 'elev_cov', 'elev_load', \n",
    "    'bark_load', \n",
    "    'canopy_h_m', 'canopy_cov_m', \n",
    "]\n",
    "\n",
    "for col in numeric:\n",
    "    gdf[col] = pd.to_numeric(gdf[col])\n",
    "gdf.dtypes"
   ]
  },
  {
   "cell_type": "code",
   "execution_count": null,
   "metadata": {},
   "outputs": [],
   "source": [
    "# add region identifiers\n",
    "gdf['region'] = np.where(\n",
    "    gdf['site'].str.startswith('EC'), 'central',\n",
    "        np.where(gdf['site'].str.startswith('P'), 'pilliga', \n",
    "            np.where(gdf['site'].str.startswith('SM'),'snowy', 'other')\n",
    "    )\n",
    ")\n",
    "gdf.head()"
   ]
  },
  {
   "cell_type": "markdown",
   "metadata": {},
   "source": [
    "## Sample the AFO geotiffs\n",
    "\n",
    "It seems that all the geotiffs are all projected using the MGA zone 56 crs (EPSG:32756) regardless of what zone they are in but let's check this as we read them."
   ]
  },
  {
   "cell_type": "code",
   "execution_count": null,
   "metadata": {},
   "outputs": [],
   "source": [
    "#crown cover\n",
    "cc_paths = {\n",
    "    'pilliga': 'spatial_data/Pilliga-vegetation-canopy_cover-2021.tif',\n",
    "    'central': 'spatial_data/Centralcoast-vegetation-canopy_cover-2021.tif',\n",
    "    'snowy': 'spatial_data/Southmnts-vegetation-canopy_cover-2021.tif',\n",
    "}\n",
    "\n",
    "gdf['afo_cc'] = read_afo(cc_paths, gdf)\n",
    "gdf.head()"
   ]
  },
  {
   "cell_type": "code",
   "execution_count": null,
   "metadata": {},
   "outputs": [],
   "source": [
    "# ladder fuel density\n",
    "lfd_paths = {\n",
    "    'pilliga': 'spatial_data/Pilliga-vegetation-ladder_fuel_density-2021.tif',\n",
    "    'central': 'spatial_data/Centralcoast-vegetation-ladder_fuel_density-2021.tif',\n",
    "    'snowy': 'spatial_data/Southmnts-vegetation-ladder_fuel_density-2021.tif',\n",
    "}\n",
    "gdf['afo_lfd'] = read_afo(lfd_paths, gdf)\n",
    "gdf.head()"
   ]
  },
  {
   "cell_type": "code",
   "execution_count": null,
   "metadata": {},
   "outputs": [],
   "source": [
    "# canopy height\n",
    "ch_paths = {\n",
    "    'pilliga': 'spatial_data/Pilliga-vegetation-canopy_height-2021.tif',\n",
    "    'central': 'spatial_data/Centralcoast-vegetation-canopy_height-2021.tif',\n",
    "    'snowy': 'spatial_data/Southmnts-vegetation-canopy_height-2021.tif',\n",
    "}\n",
    "\n",
    "gdf['afo_ch'] = read_afo(ch_paths, gdf)\n",
    "gdf.head()"
   ]
  },
  {
   "cell_type": "code",
   "execution_count": null,
   "metadata": {},
   "outputs": [],
   "source": [
    "# canopy base height\n",
    "cbh_paths = {\n",
    "    'pilliga': 'spatial_data/Pilliga-vegetation-canopy_base_height-2021.tif',\n",
    "    'central': 'spatial_data/Centralcoast-vegetation-canopy_base_height-2021.tif',\n",
    "    'snowy': 'spatial_data/Southmnts-vegetation-canopy_base_height-2021.tif',\n",
    "}\n",
    "gdf['afo_cbh'] = read_afo(cbh_paths, gdf)\n",
    "gdf.head()"
   ]
  },
  {
   "cell_type": "code",
   "execution_count": null,
   "metadata": {},
   "outputs": [],
   "source": [
    "# fuel loads\n",
    "fuel_load_paths = {\n",
    "    'pilliga': 'spatial_data/Pilliga-fuels-classes-2021-density.tif',\n",
    "    'central': 'spatial_data/Centralcoast-fuels-classes-2021-density.tif',\n",
    "    'snowy': 'spatial_data/Southmnts-fuels-classes-2021-density.tif',\n",
    "}\n",
    "\n",
    "strata = ['afo_litter', 'afo_surface', 'afo_elevated', 'afo_bark']\n",
    "\n",
    "for i, stratum in enumerate(strata):\n",
    "    gdf[stratum] = read_afo(fuel_load_paths, gdf, index=i)\n",
    "\n",
    "gdf.head()"
   ]
  },
  {
   "cell_type": "markdown",
   "metadata": {},
   "source": [
    "trim the dataframe down again"
   ]
  },
  {
   "cell_type": "code",
   "execution_count": null,
   "metadata": {},
   "outputs": [],
   "source": [
    "subset.extend(['afo_cc', 'afo_lfd', 'afo_ch', 'afo_cbh', 'afo_litter', 'afo_surface', 'afo_elevated', 'afo_bark'])\n",
    "# gdf = gdf[[\n",
    "#     'id', 'site', 'plot', 'observer', 'region', 'geometry', 'veg_type', 'fire_hist', 'loc_accuracy',\n",
    "#     'litter_d_m', 'litter_cov', 'litter_load', 's_fhr', \n",
    "#     'ns_h_m', 'ns_cov', 'ns_fhr', 'ns_fhr', 'ns_load', 's&ns_fhr', \n",
    "#     'elev_h_m', 'elev_cov', 'elev_fhr', 'elev_fhr', 'elev_load', \n",
    "#     'bark_type', 'bark_haz', 'bark_load', \n",
    "#     'canopy_h_m', 'canopy_cov_m', \n",
    "#     'representative', \n",
    "#     'afo_cc', 'afo_lfd', 'afo_ch', 'afo_cbh', 'afo_litter', 'afo_surface', 'afo_elevated', 'afo_bark'\n",
    "# ]]\n",
    "gdf = gdf[subset]\n",
    "# 'bark_haz', \n",
    "gdf"
   ]
  },
  {
   "cell_type": "code",
   "execution_count": null,
   "metadata": {},
   "outputs": [],
   "source": [
    "df_corr = gdf.corr(method='pearson')\n",
    "df_corr"
   ]
  },
  {
   "cell_type": "markdown",
   "metadata": {},
   "source": [
    "just grab the rows and columns we are interested in"
   ]
  },
  {
   "cell_type": "code",
   "execution_count": null,
   "metadata": {},
   "outputs": [],
   "source": [
    "afo_keys = [\n",
    "    'afo_cc', 'afo_lfd', 'afo_ch', 'afo_cbh', 'afo_litter', \n",
    "    'afo_surface', 'afo_elevated', 'afo_bark',     \n",
    "]\n",
    "\n",
    "field_keys = [\n",
    "    'litter_d_m', 'litter_cov', 'litter_load', 'ns_h_m', 'ns_cov', #'ns_load', \n",
    "    'elev_h_m', 'elev_cov', 'elev_load', 'bark_load', \n",
    "    'canopy_h_m', 'canopy_cov_m',\n",
    "]\n",
    "\n",
    "df_corr.loc[field_keys, afo_keys]"
   ]
  },
  {
   "cell_type": "markdown",
   "metadata": {},
   "source": [
    "Graph variables that should correlate\n",
    "\n",
    "note ladder fuel density does not seem well correlated with anything :("
   ]
  },
  {
   "cell_type": "code",
   "execution_count": null,
   "metadata": {},
   "outputs": [],
   "source": [
    "x = 'afo_cc'\n",
    "y = 'canopy_cov_m'\n",
    "df = gdf\n",
    "reg_plot(x, y, df, hue='region')\n",
    "plt.show()\n",
    "reg_plots(x, y, df, hue='region')\n",
    "plt.show()\n",
    "reg_plots(x, y, df, hue='veg_type')\n",
    "plt.show()"
   ]
  },
  {
   "cell_type": "code",
   "execution_count": null,
   "metadata": {},
   "outputs": [],
   "source": [
    "x = 'afo_ch'\n",
    "y = 'canopy_h_m'\n",
    "df = gdf\n",
    "reg_plot(x, y, df, hue='region')\n",
    "plt.show()\n",
    "reg_plots(x, y, df, hue='region')\n",
    "plt.show()\n",
    "reg_plots(x, y, df, hue='veg_type')\n",
    "plt.show()"
   ]
  },
  {
   "cell_type": "code",
   "execution_count": null,
   "metadata": {},
   "outputs": [],
   "source": [
    "x = 'afo_cbh'\n",
    "y = 'canopy_h_m'\n",
    "df = gdf\n",
    "reg_plot(x, y, df, hue='region')\n",
    "plt.show()\n",
    "reg_plots(x, y, df, hue='region')\n",
    "plt.show()\n",
    "reg_plots(x, y, df, hue='veg_type')\n",
    "plt.show()"
   ]
  },
  {
   "cell_type": "code",
   "execution_count": null,
   "metadata": {},
   "outputs": [],
   "source": [
    "x = 'afo_litter'\n",
    "y = 'litter_d_m'\n",
    "df = gdf\n",
    "reg_plot(x, y, df, hue='region')\n",
    "plt.show()\n",
    "reg_plots(x, y, df, hue='region')\n",
    "plt.show()\n",
    "reg_plots(x, y, df, hue='veg_type')\n",
    "plt.show()"
   ]
  },
  {
   "cell_type": "code",
   "execution_count": null,
   "metadata": {},
   "outputs": [],
   "source": [
    "x = 'afo_litter'\n",
    "y = 'litter_load'\n",
    "df = gdf\n",
    "reg_plot(x, y, df, hue='region')\n",
    "plt.show()\n",
    "reg_plots(x, y, df, hue='region')\n",
    "plt.show()\n",
    "reg_plots(x, y, df, hue='veg_type')\n",
    "plt.show()"
   ]
  },
  {
   "cell_type": "code",
   "execution_count": null,
   "metadata": {},
   "outputs": [],
   "source": [
    "x = 'afo_litter'\n",
    "y = 'afo_surface'\n",
    "df = gdf\n",
    "reg_plot(x, y, df, hue='region')\n",
    "plt.show()\n",
    "reg_plots(x, y, df, hue='region')\n",
    "plt.show()\n",
    "reg_plots(x, y, df, hue='veg_type')\n",
    "plt.show()"
   ]
  },
  {
   "cell_type": "code",
   "execution_count": null,
   "metadata": {},
   "outputs": [],
   "source": [
    "x = 'afo_surface'\n",
    "y = 'litter_d_m'\n",
    "df = gdf\n",
    "reg_plot(x, y, df, hue='region')\n",
    "plt.show()\n",
    "reg_plots(x, y, df, hue='region')\n",
    "plt.show()\n",
    "reg_plots(x, y, df, hue='veg_type')\n",
    "plt.show()"
   ]
  },
  {
   "cell_type": "code",
   "execution_count": null,
   "metadata": {},
   "outputs": [],
   "source": [
    "x = 'afo_elevated'\n",
    "y = 'elev_cov'\n",
    "df = gdf\n",
    "reg_plot(x, y, df, hue='region')\n",
    "plt.show()\n",
    "reg_plots(x, y, df, hue='region')\n",
    "plt.show()\n",
    "reg_plots(x, y, df, hue='veg_type')\n",
    "plt.show()"
   ]
  },
  {
   "cell_type": "code",
   "execution_count": null,
   "metadata": {},
   "outputs": [],
   "source": [
    "x = 'afo_bark'\n",
    "y = 'canopy_cov_m'\n",
    "df = gdf\n",
    "reg_plot(x, y, df, hue='region')\n",
    "plt.show()\n",
    "reg_plots(x, y, df, hue='region')\n",
    "plt.show()\n",
    "reg_plots(x, y, df, hue='veg_type')\n",
    "plt.show()"
   ]
  },
  {
   "cell_type": "markdown",
   "metadata": {},
   "source": [
    "poor correlations may be due to the fine and variable nature of the AFO data. Test how robust the results are to location by sampling with an offset of 20 m"
   ]
  },
  {
   "cell_type": "code",
   "execution_count": null,
   "metadata": {},
   "outputs": [],
   "source": [
    "gdf['afo_cc_off'] = read_afo(cc_paths, gdf, offset=20)\n",
    "labels['afo_cc_off'] = 'AFO Canopy Cover offset 20 m'\n",
    "gdf.head()"
   ]
  },
  {
   "cell_type": "code",
   "execution_count": null,
   "metadata": {},
   "outputs": [],
   "source": [
    "x = 'afo_cc'\n",
    "y = 'afo_cc_off'\n",
    "df = gdf\n",
    "reg_plot(x, y, df, hue='region')\n",
    "plt.show()\n",
    "reg_plots(x, y, df, hue='region')\n",
    "plt.show()\n",
    "reg_plots(x, y, df, hue='veg_type')\n",
    "plt.show()"
   ]
  },
  {
   "cell_type": "markdown",
   "metadata": {},
   "source": [
    "If the data are so sensitive lets resample it - after a bit of playing it seems that for most of the AFO datasets the greatest improvement in r comes if we resample to a grid cell size of 30 m"
   ]
  },
  {
   "cell_type": "code",
   "execution_count": null,
   "metadata": {},
   "outputs": [],
   "source": [
    "res = 30\n",
    "lr_cc_paths = rasters_resample(cc_paths, res)\n",
    "gdf['afo_cc_lr'] = read_afo(lr_cc_paths, gdf)\n",
    "labels['afo_cc_lr'] = f'AFO Canopy Cover (%) {res} m resolution'\n",
    "gdf.head()"
   ]
  },
  {
   "cell_type": "code",
   "execution_count": null,
   "metadata": {},
   "outputs": [],
   "source": [
    "x = 'afo_cc_lr'\n",
    "y = 'canopy_cov_m'\n",
    "df = gdf\n",
    "reg_plot(x, y, df, hue='region')\n",
    "plt.show()\n",
    "reg_plots(x, y, df, hue='region')\n",
    "plt.show()\n",
    "reg_plots(x, y, df, hue='veg_type')\n",
    "plt.show()"
   ]
  },
  {
   "cell_type": "code",
   "execution_count": null,
   "metadata": {},
   "outputs": [],
   "source": [
    "label = 'afo_surface_lr'\n",
    "paths = rasters_resample(fuel_load_paths, res)\n",
    "gdf[label] = read_afo(paths, gdf, index=1)\n",
    "labels[label] = f'AFO Surface Cover {res} m resolution'\n",
    "x = label\n",
    "y = 'litter_d_m'\n",
    "df = gdf\n",
    "reg_plot(x, y, df, hue='region')\n",
    "plt.show()\n",
    "reg_plots(x, y, df, hue='region')\n",
    "plt.show()\n",
    "reg_plots(x, y, df, hue='veg_type')\n",
    "plt.show()"
   ]
  },
  {
   "cell_type": "markdown",
   "metadata": {},
   "source": [
    "## RFS Corporate Data"
   ]
  },
  {
   "cell_type": "code",
   "execution_count": null,
   "metadata": {},
   "outputs": [],
   "source": [
    "# def read_rfs(path: str, coord_df: GeoDataFrame) -> Series:\n",
    "\n",
    "#     coord_df = coord_df[['geometry']]\n",
    "#     with rasterio.open(path, 'r') as src:\n",
    "#         print(f'Input CRS is: {src.crs}')\n",
    "#         coord_df = coord_df.to_crs(src.crs)\n",
    "#         site_coords = [\n",
    "#             (x,y) for x,y in zip(coord_df['geometry'].x, coord_df['geometry'].y)\n",
    "#         ]\n",
    "#         coord_df['sample_data'] = [x[0] for x in src.sample(site_coords)]\n",
    "#     return coord_df['sample_data']"
   ]
  },
  {
   "cell_type": "code",
   "execution_count": null,
   "metadata": {},
   "outputs": [],
   "source": [
    "path = 'spatial_data/RFS/Bark_FuelTypeV211_202109201.tif'\n",
    "gdf['rfs_bark'] = read_rfs(path,gdf)\n",
    "labels['rfs_bark'] = 'RFS Bark Fuel Load 02109201'\n",
    "path = 'spatial_data/RFS/Canopy_FuelTypeV2111.tif'\n",
    "gdf['rfs_canopy'] = read_rfs(path,gdf)\n",
    "labels['rfs_canopy'] = 'RFS Canopy Fuel Load 02109201'\n",
    "path = 'spatial_data/RFS/Elevated_FuelTypeV211_202109201.tif'\n",
    "gdf['rfs_elevated'] = read_rfs(path,gdf)\n",
    "labels['rfs_elevated'] = 'RFS Elevated Fuel Load 02109201'\n",
    "path = 'spatial_data/RFS/Surface_FuelTypeV211_202109201.tif'\n",
    "gdf['rfs_surface'] = read_rfs(path,gdf)\n",
    "labels['rfs_surface'] = 'RFS Surface Fuel Load 02109201'\n",
    "gdf.head()"
   ]
  },
  {
   "cell_type": "code",
   "execution_count": null,
   "metadata": {},
   "outputs": [],
   "source": [
    "df_corr = gdf.corr(method='pearson')\n",
    "df_corr"
   ]
  },
  {
   "cell_type": "code",
   "execution_count": null,
   "metadata": {},
   "outputs": [],
   "source": [
    "rfs_keys = ['rfs_bark', 'rfs_canopy', 'rfs_elevated', 'rfs_surface']"
   ]
  },
  {
   "cell_type": "code",
   "execution_count": null,
   "metadata": {},
   "outputs": [],
   "source": [
    "df_corr.loc[field_keys, afo_keys]"
   ]
  },
  {
   "cell_type": "code",
   "execution_count": null,
   "metadata": {},
   "outputs": [],
   "source": [
    "df_corr.loc[field_keys, rfs_keys]"
   ]
  },
  {
   "cell_type": "code",
   "execution_count": null,
   "metadata": {},
   "outputs": [],
   "source": [
    "df_corr.loc[afo_keys, rfs_keys]"
   ]
  },
  {
   "cell_type": "code",
   "execution_count": null,
   "metadata": {},
   "outputs": [],
   "source": [
    "x = 'afo_bark'\n",
    "y = 'rfs_bark'\n",
    "reg_plot(x, y, gdf, hue='region')\n",
    "plt.show()\n",
    "reg_plots(x, y, gdf, hue='region')\n",
    "plt.show()\n",
    "reg_plots(x, y, gdf, hue='veg_type')\n",
    "plt.show()"
   ]
  },
  {
   "cell_type": "code",
   "execution_count": null,
   "metadata": {},
   "outputs": [],
   "source": [
    "x = 'afo_elevated'\n",
    "y = 'rfs_elevated'\n",
    "reg_plot(x, y, gdf, hue='region')\n",
    "plt.show()\n",
    "reg_plots(x, y, gdf, hue='region')\n",
    "plt.show()\n",
    "reg_plots(x, y, gdf, hue='veg_type')\n",
    "plt.show()"
   ]
  },
  {
   "cell_type": "code",
   "execution_count": null,
   "metadata": {},
   "outputs": [],
   "source": [
    "x = 'afo_surface'\n",
    "y = 'rfs_surface'\n",
    "reg_plot(x, y, gdf, hue='region')\n",
    "plt.show()\n",
    "reg_plots(x, y, gdf, hue='region')\n",
    "plt.show()"
   ]
  },
  {
   "cell_type": "code",
   "execution_count": null,
   "metadata": {},
   "outputs": [],
   "source": [
    "x = 'afo_surface'\n",
    "y = 'rfs_surface'\n",
    "reg_plot(x, y, gdf, hue='region')\n",
    "plt.show()\n",
    "reg_plots(x, y, gdf, hue='region')\n",
    "plt.show()\n",
    "reg_plots(x, y, gdf, hue='veg_type')\n",
    "plt.show()"
   ]
  },
  {
   "cell_type": "code",
   "execution_count": null,
   "metadata": {},
   "outputs": [],
   "source": [
    "gdf.to_csv('AFO_truthiness_2.csv')"
   ]
  }
 ],
 "metadata": {
  "interpreter": {
   "hash": "d72abfac31c569a4e7b31480e9d17ea5b1a665db733ac389a4465267c3354ef4"
  },
  "kernelspec": {
   "display_name": "Python 3.10.2 ('.venv': venv)",
   "language": "python",
   "name": "python3"
  },
  "language_info": {
   "codemirror_mode": {
    "name": "ipython",
    "version": 3
   },
   "file_extension": ".py",
   "mimetype": "text/x-python",
   "name": "python",
   "nbconvert_exporter": "python",
   "pygments_lexer": "ipython3",
   "version": "3.10.2"
  },
  "orig_nbformat": 4
 },
 "nbformat": 4,
 "nbformat_minor": 2
}
